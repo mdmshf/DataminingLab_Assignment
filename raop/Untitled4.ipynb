{
 "cells": [
  {
   "cell_type": "code",
   "execution_count": 35,
   "metadata": {},
   "outputs": [
    {
     "name": "stdout",
     "output_type": "stream",
     "text": [
      "[(2, 10), (3, 12), (4, 14), (5, 16), (6, 20), (7, 22), (8, 25), (10, 28)]\n"
     ]
    }
   ],
   "source": [
    "no_point=8\n",
    "point=[]\n",
    "xpoints=[2,3,4,5,6,7,8,10]\n",
    "ypoints=[10,12,14,16,20,22,25,28]\n",
    "for i in range(no_point):\n",
    "    point.append((xpoints[i],ypoints[i]))\n",
    "    \n",
    "    \n",
    "print(point)"
   ]
  },
  {
   "cell_type": "code",
   "execution_count": 36,
   "metadata": {},
   "outputs": [
    {
     "data": {
      "text/plain": [
       "[<matplotlib.lines.Line2D at 0x1630942bba8>]"
      ]
     },
     "execution_count": 36,
     "metadata": {},
     "output_type": "execute_result"
    },
    {
     "data": {
      "image/png": "[encoded data removed]",
      "text/plain": [
       "<Figure size 432x288 with 1 Axes>"
      ]
     },
     "metadata": {
      "needs_background": "light"
     },
     "output_type": "display_data"
    }
   ],
   "source": [
    "import matplotlib.pyplot as plt\n",
    "plt.plot(xpoints, ypoints, 'ro')"
   ]
  },
  {
   "cell_type": "code",
   "execution_count": 37,
   "metadata": {},
   "outputs": [],
   "source": [
    "import math\n",
    "def distance(point1,point2):\n",
    "    dist=math.sqrt(((point2[1]-point1[1])**2) + ((point2[0]-point1[0])**2))\n",
    "    return dist"
   ]
  },
  {
   "cell_type": "code",
   "execution_count": 38,
   "metadata": {},
   "outputs": [],
   "source": [
    "def func(clas):\n",
    "    temx=0\n",
    "    temy=0\n",
    "    for i in range(len(clas)):\n",
    "        temx+=clas[i][0]\n",
    "        temy+=clas[i][1]\n",
    "    temx=temx/len(clas)\n",
    "    temy=temy/len(clas)\n",
    "    return temx,temy"
   ]
  },
  {
   "cell_type": "code",
   "execution_count": 43,
   "metadata": {},
   "outputs": [
    {
     "name": "stdout",
     "output_type": "stream",
     "text": [
      "2.0 10.0 3.0 12.0 6.666666666666667 20.833333333333332\n",
      "2.0 10.0 4.0 14.0 7.75 23.75\n",
      "2.5 11.0 4.5 15.0 7.75 23.75\n",
      "2.5 11.0 4.5 15.0 7.75 23.75\n"
     ]
    }
   ],
   "source": [
    "t1=[]\n",
    "t1.append(point[0])\n",
    "temp1=0\n",
    "\n",
    "t2=[]\n",
    "t2.append(point[1])\n",
    "temp2=1\n",
    "\n",
    "t3=[]\n",
    "t3.append(point[2])\n",
    "temp3=2\n",
    "\n",
    "class1=[]\n",
    "class2=[]\n",
    "class3=[]\n",
    "\n",
    "for j in range(10000):\n",
    "    del class1[:]\n",
    "    del class2[:]\n",
    "    del class3[:]\n",
    "    for i in range(no_point):\n",
    "        l1=distance(point[i],t1[0])\n",
    "        l2=distance(point[i],t2[0])\n",
    "        l3=distance(point[i],t3[0])\n",
    "        if(l1==min(l1,l2,l3)):\n",
    "            class1.append((point[i]))\n",
    "        elif(l2==min(l1,l2,l3)):\n",
    "            class2.append((point[i]))\n",
    "        else:\n",
    "            class3.append((point[i]))\n",
    "    tempx=0\n",
    "    tempy=0\n",
    "    tempx1=0\n",
    "    tempy1=0\n",
    "    tempy2=0\n",
    "    tempy2=0\n",
    "    \n",
    "\n",
    "    tempx,tempy=func(class1)\n",
    "    tempx1,tempy1=func(class2)\n",
    "    tempx2,tempy2=func(class3)\n",
    "    \n",
    "    print(tempx,tempy,tempx1,tempy1,tempx2,tempy2)\n",
    "    \n",
    "    if tempx==t1[0][0] and tempy==t1[0][1] and tempx1==t2[0][0] and tempy1==t2[0][1] and tempx2==t3[0][0] and tempy2==t3[0][1]:\n",
    "        break\n",
    "    else:\n",
    "        del t1[:]\n",
    "        t1.append((tempx,tempy))\n",
    "        del t2[:]\n",
    "        t2.append((tempx1,tempy1))\n",
    "        del t3[:]\n",
    "        t3.append((tempx2,tempy2))\n",
    "    \n",
    "    "
   ]
  },
  {
   "cell_type": "code",
   "execution_count": 44,
   "metadata": {},
   "outputs": [
    {
     "name": "stdout",
     "output_type": "stream",
     "text": [
      "[(2, 10), (3, 12)]\n",
      "[(4, 14), (5, 16)]\n",
      "[(6, 20), (7, 22), (8, 25), (10, 28)]\n"
     ]
    }
   ],
   "source": [
    "print(class1)\n",
    "print(class2)\n",
    "print(class3)"
   ]
  },
  {
   "cell_type": "code",
   "execution_count": 53,
   "metadata": {},
   "outputs": [
    {
     "data": {
      "text/plain": [
       "[<matplotlib.lines.Line2D at 0x163097af780>,\n",
       " <matplotlib.lines.Line2D at 0x163097bc940>,\n",
       " <matplotlib.lines.Line2D at 0x163097afe80>]"
      ]
     },
     "execution_count": 53,
     "metadata": {},
     "output_type": "execute_result"
    },
    {
     "data": {
      "image/png": "[encoded data removed]",
      "text/plain": [
       "<Figure size 432x288 with 1 Axes>"
      ]
     },
     "metadata": {
      "needs_background": "light"
     },
     "output_type": "display_data"
    }
   ],
   "source": [
    "for i in range(len(class1)):\n",
    "    plt.scatter(class1[i][0],class1[i][1],color='r')\n",
    "for i in range(len(class2)):\n",
    "    plt.scatter(class2[i][0],class2[i][1],color='b')\n",
    "for i in range(len(class3)):\n",
    "    plt.scatter(class3[i][0],class3[i][1],color='g')\n",
    "plt.plot(t1[0][0],t1[0][1],'r^',t2[0][0],t2[0][1],'b^',t3[0][0],t3[0][1],'g^')"
   ]
  },
  {
   "cell_type": "code",
   "execution_count": null,
   "metadata": {},
   "outputs": [],
   "source": []
  }
 ],
 "metadata": {
  "anaconda-cloud": {},
  "kernelspec": {
   "display_name": "Python 3",
   "language": "python",
   "name": "python3"
  },
  "language_info": {
   "codemirror_mode": {
    "name": "ipython",
    "version": 3
   },
   "file_extension": ".py",
   "mimetype": "text/x-python",
   "name": "python",
   "nbconvert_exporter": "python",
   "pygments_lexer": "ipython3",
   "version": "3.6.5"
  }
 },
 "nbformat": 4,
 "nbformat_minor": 1
}
