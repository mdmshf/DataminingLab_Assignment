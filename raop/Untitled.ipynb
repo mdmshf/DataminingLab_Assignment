{
 "cells": [
  {
   "cell_type": "code",
   "execution_count": 12,
   "metadata": {},
   "outputs": [],
   "source": [
    "import pandas as pd\n",
    "import numpy as np\n",
    "import os\n",
    "import re\n",
    "import operator\n",
    "import datetime\n",
    "from collections import Counter\n",
    "from nltk import ngrams\n",
    "import warnings\n",
    "warnings.filterwarnings('ignore')\n",
    "from sklearn import metrics\n",
    "from sklearn.model_selection import cross_val_score"
   ]
  },
  {
   "cell_type": "code",
   "execution_count": 14,
   "metadata": {},
   "outputs": [],
   "source": [
    "def get_length(df):\n",
    "    return [len(x.split()) for x in df['request_text_edit_aware']]\n",
    "\n",
    "def get_karma(df):\n",
    "    karma = df['requester_upvotes_plus_downvotes_at_request'] + df['requester_upvotes_plus_downvotes_at_retrieval']\n",
    "    return karma\n",
    "    \n",
    "def get_score(df):\n",
    "    score = df['requester_upvotes_minus_downvotes_at_request'] + df['requester_upvotes_minus_downvotes_at_retrieval']\n",
    "    return score\n",
    "\n",
    "def get_evidentiality(df):\n",
    "    urls = []\n",
    "    for text in df['request_text_edit_aware']:\n",
    "        url = re.findall('http[s]?://(?:[a-zA-Z]|[0-9]|[$-_@.&+]|[!*\\(\\),]|(?:%[0-9a-fA-F][0-9a-fA-F]))+', text)\n",
    "        urls.append(len(url))\n",
    "    return urls\n",
    "\n",
    "def get_activity(df):\n",
    "    return df['requester_number_of_subreddits_at_request']\n",
    "\n",
    "def spell_check_score(df):\n",
    "        spell_errors = []\n",
    "        for text in df['request_text_edit_aware']:\n",
    "            spl_err = 0\n",
    "            words = re.sub(\"[\"+'!\"#$%&\\'()*+.,-/:;<=>?@[\\\\]^_`{|}~'+\"]\", \" \", text).split()\n",
    "            if len(words):\n",
    "                for word in words:\n",
    "                    if correction(word)!= word: \n",
    "                        spl_err += 1\n",
    "                spell_errors.append(float(spl_err)/len(words))\n",
    "            else:\n",
    "                spell_errors.append(0)\n",
    "        return spell_errors\n",
    "    \n",
    "def get_narrative(col,narrative):\n",
    "        request_narrative,narration = [],[]\n",
    "        for request in self.df[col]:\n",
    "            word_count = {'Money':0,'Job':0,'Student':0,'Family':0,'Craving':0}\n",
    "            n = 0\n",
    "            for word in request.split():\n",
    "                for lexicon in narrative:\n",
    "                    if word in narrative[lexicon]:\n",
    "                        word_count[lexicon] += 1\n",
    "            narration.append(max(word_count.iteritems(), key=operator.itemgetter(1))[0])\n",
    "        print('Use get_dummies to encode the features as binary')\n",
    "        return narration\n",
    "    \n",
    "def train_model(data,model,response_col,scoring='roc_auc',cv=5):\n",
    "        data_copy = data.copy()\n",
    "        y = data_copy.pop(response_col)\n",
    "        scores = cross_val_score(model,data_copy,y,scoring=scoring,cv=cv)\n",
    "        del data_copy\n",
    "        gc.collect()\n",
    "        return scores.mean()"
   ]
  },
  {
   "cell_type": "code",
   "execution_count": 15,
   "metadata": {},
   "outputs": [],
   "source": [
    "df = pd.read_json('train.json')"
   ]
  },
  {
   "cell_type": "code",
   "execution_count": 16,
   "metadata": {},
   "outputs": [],
   "source": [
    "df['request_length'] = get_length(df)\n",
    "df['karma'] = get_karma(df)\n",
    "df['scores'] = get_score(df)\n",
    "df['trust'] = get_evidentiality(df)\n",
    "df['activity'] = get_activity(df)"
   ]
  },
  {
   "cell_type": "code",
   "execution_count": 17,
   "metadata": {},
   "outputs": [],
   "source": [
    "req_features = [\n",
    " 'complexity',\n",
    " 'first_half_of_month',\n",
    " 'karma',\n",
    " 'narrative_topics_Craving',\n",
    " 'narrative_topics_Family',\n",
    " 'narrative_topics_Job',\n",
    " 'narrative_topics_Money',\n",
    " 'narrative_topics_Student',\n",
    " 'politeness',\n",
    " 'popularity',\n",
    " 'request_length',\n",
    " 'scores',\n",
    " 'trust',\n",
    " 'requester_received_pizza',\n",
    " 'similarity',\n",
    " 'sentiment',\n",
    " 'giver',\n",
    " 'activity',\n",
    " 'age',\n",
    " 'indegree',\n",
    " 'outdegree',\n",
    " 'shapley'\n",
    "]"
   ]
  },
  {
   "cell_type": "code",
   "execution_count": 18,
   "metadata": {},
   "outputs": [
    {
     "data": {
      "text/html": [
       "<div>\n",
       "<style scoped>\n",
       "    .dataframe tbody tr th:only-of-type {\n",
       "        vertical-align: middle;\n",
       "    }\n",
       "\n",
       "    .dataframe tbody tr th {\n",
       "        vertical-align: top;\n",
       "    }\n",
       "\n",
       "    .dataframe thead th {\n",
       "        text-align: right;\n",
       "    }\n",
       "</style>\n",
       "<table border=\"1\" class=\"dataframe\">\n",
       "  <thead>\n",
       "    <tr style=\"text-align: right;\">\n",
       "      <th></th>\n",
       "      <th>requester_received_pizza</th>\n",
       "      <th>request_length</th>\n",
       "      <th>karma</th>\n",
       "      <th>scores</th>\n",
       "      <th>trust</th>\n",
       "      <th>activity</th>\n",
       "    </tr>\n",
       "  </thead>\n",
       "  <tbody>\n",
       "    <tr>\n",
       "      <th>0</th>\n",
       "      <td>False</td>\n",
       "      <td>67</td>\n",
       "      <td>1</td>\n",
       "      <td>1</td>\n",
       "      <td>0</td>\n",
       "      <td>0</td>\n",
       "    </tr>\n",
       "    <tr>\n",
       "      <th>1</th>\n",
       "      <td>False</td>\n",
       "      <td>16</td>\n",
       "      <td>11284</td>\n",
       "      <td>4292</td>\n",
       "      <td>0</td>\n",
       "      <td>12</td>\n",
       "    </tr>\n",
       "  </tbody>\n",
       "</table>\n",
       "</div>"
      ],
      "text/plain": [
       "   requester_received_pizza  request_length  karma  scores  trust  activity\n",
       "0                     False              67      1       1      0         0\n",
       "1                     False              16  11284    4292      0        12"
      ]
     },
     "execution_count": 18,
     "metadata": {},
     "output_type": "execute_result"
    }
   ],
   "source": [
    "df_new = df.drop([col for col in df.columns if col not in req_features],axis=1)\n",
    "df_new.head(2)"
   ]
  },
  {
   "cell_type": "code",
   "execution_count": 19,
   "metadata": {},
   "outputs": [],
   "source": [
    "from sklearn.linear_model import LogisticRegression\n",
    "model = LogisticRegression(penalty='l1')\n",
    "auc_score = train_model(df_new,model=model,response_col='requester_received_pizza',cv=2)\n",
    "acc_score = train_model(df_new,model=model,response_col='requester_received_pizza',cv=2,scoring='accuracy')"
   ]
  },
  {
   "cell_type": "code",
   "execution_count": 20,
   "metadata": {},
   "outputs": [
    {
     "name": "stdout",
     "output_type": "stream",
     "text": [
      "0.6072541618720861\n"
     ]
    }
   ],
   "source": [
    "print(auc_score)"
   ]
  },
  {
   "cell_type": "code",
   "execution_count": 23,
   "metadata": {},
   "outputs": [
    {
     "name": "stdout",
     "output_type": "stream",
     "text": [
      "0.7477722772277228\n"
     ]
    }
   ],
   "source": [
    "print(acc_score)"
   ]
  },
  {
   "cell_type": "code",
   "execution_count": null,
   "metadata": {},
   "outputs": [],
   "source": []
  },
  {
   "cell_type": "code",
   "execution_count": null,
   "metadata": {},
   "outputs": [],
   "source": []
  }
 ],
 "metadata": {
  "kernelspec": {
   "display_name": "Python 3",
   "language": "python",
   "name": "python3"
  },
  "language_info": {
   "codemirror_mode": {
    "name": "ipython",
    "version": 3
   },
   "file_extension": ".py",
   "mimetype": "text/x-python",
   "name": "python",
   "nbconvert_exporter": "python",
   "pygments_lexer": "ipython3",
   "version": "3.6.5"
  }
 },
 "nbformat": 4,
 "nbformat_minor": 2
}
